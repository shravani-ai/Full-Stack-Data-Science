{
 "cells": [
  {
   "cell_type": "markdown",
   "id": "1b84f81c",
   "metadata": {},
   "source": [
    "Exceptional Handling in Python"
   ]
  },
  {
   "cell_type": "code",
   "execution_count": null,
   "id": "59550ce0",
   "metadata": {},
   "outputs": [],
   "source": [
    "'''Three types of Error\n",
    "1. compile time error -> Syntactical Error\n",
    "2. Logical error -> code Compiled logic is missing(wrong output)\n",
    "3. Runtime error -> execution error (eg, divided by 0)\n",
    "\n",
    "Statements\n",
    "1. Normal -> print is normal statement\n",
    "2. Critical \n",
    "\n",
    "\n",
    "'''"
   ]
  },
  {
   "cell_type": "code",
   "execution_count": 1,
   "id": "e397625a",
   "metadata": {},
   "outputs": [
    {
     "name": "stdout",
     "output_type": "stream",
     "text": [
      "2.5\n",
      "bye\n"
     ]
    }
   ],
   "source": [
    "a =5 \n",
    "b = 2\n",
    "print(a/b)\n",
    "print('bye')"
   ]
  },
  {
   "cell_type": "code",
   "execution_count": 3,
   "id": "7d234484",
   "metadata": {},
   "outputs": [
    {
     "name": "stdout",
     "output_type": "stream",
     "text": [
      "0.0\n",
      "bye\n"
     ]
    }
   ],
   "source": [
    "c =5 \n",
    "d =0\n",
    "print(d/c)\n",
    "print('bye')"
   ]
  },
  {
   "cell_type": "code",
   "execution_count": 4,
   "id": "fa905ddf",
   "metadata": {},
   "outputs": [
    {
     "name": "stdout",
     "output_type": "stream",
     "text": [
      "bye\n"
     ]
    },
    {
     "ename": "ZeroDivisionError",
     "evalue": "division by zero",
     "output_type": "error",
     "traceback": [
      "\u001b[31m---------------------------------------------------------------------------\u001b[39m",
      "\u001b[31mZeroDivisionError\u001b[39m                         Traceback (most recent call last)",
      "\u001b[36mCell\u001b[39m\u001b[36m \u001b[39m\u001b[32mIn[4]\u001b[39m\u001b[32m, line 4\u001b[39m\n\u001b[32m      2\u001b[39m d =\u001b[32m0\u001b[39m\n\u001b[32m      3\u001b[39m \u001b[38;5;28mprint\u001b[39m(\u001b[33m'\u001b[39m\u001b[33mbye\u001b[39m\u001b[33m'\u001b[39m)\n\u001b[32m----> \u001b[39m\u001b[32m4\u001b[39m \u001b[38;5;28mprint\u001b[39m(\u001b[43mc\u001b[49m\u001b[43m/\u001b[49m\u001b[43md\u001b[49m)\n",
      "\u001b[31mZeroDivisionError\u001b[39m: division by zero"
     ]
    }
   ],
   "source": [
    "c =5 \n",
    "d =0\n",
    "print('bye')\n",
    "print(c/d)\n"
   ]
  },
  {
   "cell_type": "code",
   "execution_count": 5,
   "id": "c5122a14",
   "metadata": {},
   "outputs": [
    {
     "ename": "ZeroDivisionError",
     "evalue": "division by zero",
     "output_type": "error",
     "traceback": [
      "\u001b[31m---------------------------------------------------------------------------\u001b[39m",
      "\u001b[31mZeroDivisionError\u001b[39m                         Traceback (most recent call last)",
      "\u001b[36mCell\u001b[39m\u001b[36m \u001b[39m\u001b[32mIn[5]\u001b[39m\u001b[32m, line 4\u001b[39m\n\u001b[32m      1\u001b[39m c =\u001b[32m5\u001b[39m \n\u001b[32m      2\u001b[39m d =\u001b[32m0\u001b[39m\n\u001b[32m----> \u001b[39m\u001b[32m4\u001b[39m \u001b[38;5;28mprint\u001b[39m(\u001b[43mc\u001b[49m\u001b[43m/\u001b[49m\u001b[43md\u001b[49m)\n\u001b[32m      5\u001b[39m \u001b[38;5;28mprint\u001b[39m(\u001b[33m'\u001b[39m\u001b[33mbye\u001b[39m\u001b[33m'\u001b[39m)\n",
      "\u001b[31mZeroDivisionError\u001b[39m: division by zero"
     ]
    }
   ],
   "source": [
    "c =5 \n",
    "d =0\n",
    "\n",
    "print(c/d)\n",
    "print('bye')"
   ]
  },
  {
   "cell_type": "code",
   "execution_count": null,
   "id": "0c1eb92e",
   "metadata": {},
   "outputs": [],
   "source": [
    "'''to solve this problem we need to use\n",
    " try block(when code have error)\n",
    "\n",
    " When try block gives error then it except the exception.\n",
    " When try block does not gives error then skip the exception.\n",
    "\n",
    " Finally block executed if you get error or dont get error\n",
    "'''"
   ]
  },
  {
   "cell_type": "code",
   "execution_count": 6,
   "id": "239937a5",
   "metadata": {},
   "outputs": [
    {
     "name": "stdout",
     "output_type": "stream",
     "text": [
      "you cannot divide number by zero\n",
      "bye\n"
     ]
    }
   ],
   "source": [
    "c =5 \n",
    "d =0\n",
    "try:\n",
    "  print(c/d)\n",
    "except Exception:\n",
    "  print('you cannot divide number by zero')\n",
    "print('bye')"
   ]
  },
  {
   "cell_type": "code",
   "execution_count": 7,
   "id": "89339748",
   "metadata": {},
   "outputs": [
    {
     "name": "stdout",
     "output_type": "stream",
     "text": [
      "0.0\n",
      "bye\n"
     ]
    }
   ],
   "source": [
    "c =5 \n",
    "d =0\n",
    "try:\n",
    "  print(d/c)\n",
    "except Exception:\n",
    "  print('you cannot divide number by zero')\n",
    "print('bye')"
   ]
  },
  {
   "cell_type": "code",
   "execution_count": 9,
   "id": "bd67f0b9",
   "metadata": {},
   "outputs": [
    {
     "name": "stdout",
     "output_type": "stream",
     "text": [
      "you cannot divide number by zero :  division by zero\n",
      "bye\n"
     ]
    }
   ],
   "source": [
    "c =5 \n",
    "d =0\n",
    "try:\n",
    "  print(c/d)\n",
    "except Exception as e:\n",
    "  print('you cannot divide number by zero : ', e)\n",
    "print('bye')"
   ]
  },
  {
   "cell_type": "code",
   "execution_count": 10,
   "id": "4c498542",
   "metadata": {},
   "outputs": [
    {
     "name": "stdout",
     "output_type": "stream",
     "text": [
      "resource open\n",
      "1.0\n",
      "Resource closed\n"
     ]
    }
   ],
   "source": [
    "c =3\n",
    "d =3\n",
    "\n",
    "try: \n",
    "  print(\"resource open\")\n",
    "  print(c/d)\n",
    "  print(\"Resource closed\")\n",
    "except Exception as e:\n",
    "  print('Hey, You cannot divide number by zero: ', e)\n",
    "\n"
   ]
  },
  {
   "cell_type": "code",
   "execution_count": 11,
   "id": "f7e45bdd",
   "metadata": {},
   "outputs": [
    {
     "name": "stdout",
     "output_type": "stream",
     "text": [
      "resource open\n",
      "you cannot divide number by zero :  division by zero\n"
     ]
    }
   ],
   "source": [
    "c =5 \n",
    "d =0\n",
    "try:\n",
    "  print(\"resource open\")\n",
    "  print(c/d)\n",
    "  print(\"Resource closed\")\n",
    "except Exception as e:\n",
    "  print('you cannot divide number by zero : ', e)\n"
   ]
  },
  {
   "cell_type": "code",
   "execution_count": 13,
   "id": "6a6de961",
   "metadata": {},
   "outputs": [
    {
     "name": "stdout",
     "output_type": "stream",
     "text": [
      "resource open\n",
      "1.0\n",
      "Resource Closed\n"
     ]
    }
   ],
   "source": [
    "c = 3\n",
    "d = 3\n",
    "try:\n",
    "  print(\"resource open\")\n",
    "  print(c/d)\n",
    " \n",
    "except Exception as e:\n",
    "  print('you cannot divide number by zero : ', e)\n",
    "  print(\"Resource closed\")\n",
    "finally:\n",
    "  print(\"Resource Closed\")"
   ]
  },
  {
   "cell_type": "code",
   "execution_count": 15,
   "id": "0fd8e5c6",
   "metadata": {},
   "outputs": [
    {
     "name": "stdout",
     "output_type": "stream",
     "text": [
      "resource open\n",
      "you cannot divide number by zero :  division by zero\n",
      "Resource Closed\n"
     ]
    }
   ],
   "source": [
    "c = 3\n",
    "d = 0\n",
    "try:\n",
    "  print(\"resource open\")\n",
    "  print(c/d)\n",
    " \n",
    "except Exception as e:\n",
    "  print('you cannot divide number by zero : ', e)\n",
    " \n",
    "finally:\n",
    "  print(\"Resource Closed\")"
   ]
  },
  {
   "cell_type": "markdown",
   "id": "42032081",
   "metadata": {},
   "source": [
    "Python Iterator and Generator"
   ]
  },
  {
   "cell_type": "code",
   "execution_count": null,
   "id": "9f9f526b",
   "metadata": {},
   "outputs": [],
   "source": []
  },
  {
   "cell_type": "code",
   "execution_count": null,
   "id": "41866443",
   "metadata": {},
   "outputs": [],
   "source": []
  },
  {
   "cell_type": "code",
   "execution_count": null,
   "id": "c07eb7c9",
   "metadata": {},
   "outputs": [],
   "source": []
  }
 ],
 "metadata": {
  "kernelspec": {
   "display_name": "Python 3",
   "language": "python",
   "name": "python3"
  },
  "language_info": {
   "codemirror_mode": {
    "name": "ipython",
    "version": 3
   },
   "file_extension": ".py",
   "mimetype": "text/x-python",
   "name": "python",
   "nbconvert_exporter": "python",
   "pygments_lexer": "ipython3",
   "version": "3.13.7"
  }
 },
 "nbformat": 4,
 "nbformat_minor": 5
}
